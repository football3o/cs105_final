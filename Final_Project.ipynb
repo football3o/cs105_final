{
 "cells": [
  {
   "cell_type": "markdown",
   "metadata": {},
   "source": [
    "***Final Project Notebook***"
   ]
  },
  {
   "cell_type": "code",
   "execution_count": 35,
   "metadata": {},
   "outputs": [
    {
     "data": {
      "text/html": [
       "<div>\n",
       "<style scoped>\n",
       "    .dataframe tbody tr th:only-of-type {\n",
       "        vertical-align: middle;\n",
       "    }\n",
       "\n",
       "    .dataframe tbody tr th {\n",
       "        vertical-align: top;\n",
       "    }\n",
       "\n",
       "    .dataframe thead th {\n",
       "        text-align: right;\n",
       "    }\n",
       "</style>\n",
       "<table border=\"1\" class=\"dataframe\">\n",
       "  <thead>\n",
       "    <tr style=\"text-align: right;\">\n",
       "      <th></th>\n",
       "      <th>Data Source</th>\n",
       "      <th>Censoring Indicator</th>\n",
       "      <th>Count</th>\n",
       "      <th>Days</th>\n",
       "      <th>Failure Mode</th>\n",
       "    </tr>\n",
       "  </thead>\n",
       "  <tbody>\n",
       "    <tr>\n",
       "      <th>0</th>\n",
       "      <td>Field</td>\n",
       "      <td>Failed</td>\n",
       "      <td>1</td>\n",
       "      <td>181</td>\n",
       "      <td>Wear</td>\n",
       "    </tr>\n",
       "    <tr>\n",
       "      <th>1</th>\n",
       "      <td>Field</td>\n",
       "      <td>Censored</td>\n",
       "      <td>1</td>\n",
       "      <td>95</td>\n",
       "      <td>Censored</td>\n",
       "    </tr>\n",
       "    <tr>\n",
       "      <th>2</th>\n",
       "      <td>Field</td>\n",
       "      <td>Censored</td>\n",
       "      <td>1</td>\n",
       "      <td>504</td>\n",
       "      <td>Censored</td>\n",
       "    </tr>\n",
       "    <tr>\n",
       "      <th>3</th>\n",
       "      <td>Field</td>\n",
       "      <td>Censored</td>\n",
       "      <td>1</td>\n",
       "      <td>588</td>\n",
       "      <td>Censored</td>\n",
       "    </tr>\n",
       "    <tr>\n",
       "      <th>4</th>\n",
       "      <td>Field</td>\n",
       "      <td>Censored</td>\n",
       "      <td>1</td>\n",
       "      <td>386</td>\n",
       "      <td>Censored</td>\n",
       "    </tr>\n",
       "    <tr>\n",
       "      <th>...</th>\n",
       "      <td>...</td>\n",
       "      <td>...</td>\n",
       "      <td>...</td>\n",
       "      <td>...</td>\n",
       "      <td>...</td>\n",
       "    </tr>\n",
       "    <tr>\n",
       "      <th>393</th>\n",
       "      <td>CrackTest</td>\n",
       "      <td>Failed</td>\n",
       "      <td>1</td>\n",
       "      <td>458</td>\n",
       "      <td>Cracked</td>\n",
       "    </tr>\n",
       "    <tr>\n",
       "      <th>394</th>\n",
       "      <td>CrackTest</td>\n",
       "      <td>Failed</td>\n",
       "      <td>1</td>\n",
       "      <td>483</td>\n",
       "      <td>Cracked</td>\n",
       "    </tr>\n",
       "    <tr>\n",
       "      <th>395</th>\n",
       "      <td>CrackTest</td>\n",
       "      <td>Failed</td>\n",
       "      <td>1</td>\n",
       "      <td>323</td>\n",
       "      <td>Cracked</td>\n",
       "    </tr>\n",
       "    <tr>\n",
       "      <th>396</th>\n",
       "      <td>CrackTest</td>\n",
       "      <td>Failed</td>\n",
       "      <td>1</td>\n",
       "      <td>482</td>\n",
       "      <td>Cracked</td>\n",
       "    </tr>\n",
       "    <tr>\n",
       "      <th>397</th>\n",
       "      <td>CrackTest</td>\n",
       "      <td>Failed</td>\n",
       "      <td>1</td>\n",
       "      <td>467</td>\n",
       "      <td>Cracked</td>\n",
       "    </tr>\n",
       "  </tbody>\n",
       "</table>\n",
       "<p>398 rows × 5 columns</p>\n",
       "</div>"
      ],
      "text/plain": [
       "    Data Source Censoring Indicator  Count  Days Failure Mode\n",
       "0         Field              Failed      1   181         Wear\n",
       "1         Field            Censored      1    95     Censored\n",
       "2         Field            Censored      1   504     Censored\n",
       "3         Field            Censored      1   588     Censored\n",
       "4         Field            Censored      1   386     Censored\n",
       "..          ...                 ...    ...   ...          ...\n",
       "393   CrackTest              Failed      1   458      Cracked\n",
       "394   CrackTest              Failed      1   483      Cracked\n",
       "395   CrackTest              Failed      1   323      Cracked\n",
       "396   CrackTest              Failed      1   482      Cracked\n",
       "397   CrackTest              Failed      1   467      Cracked\n",
       "\n",
       "[398 rows x 5 columns]"
      ]
     },
     "execution_count": 35,
     "metadata": {},
     "output_type": "execute_result"
    }
   ],
   "source": [
    "import matplotlib.pyplot as plt\n",
    "# plt.style.use('classic')\n",
    "\n",
    "import numpy as np\n",
    "import pandas as pd\n",
    "import plotly.express as px\n",
    "import plotly.graph_objects as go \n",
    "lab_data = pd.read_csv(\"1 Laboratory Failure-Time and Single-Time Strength Data/ApplianceB.csv\")\n",
    "lab_data\n"
   ]
  },
  {
   "cell_type": "code",
   "execution_count": 3,
   "metadata": {},
   "outputs": [
    {
     "data": {
      "text/html": [
       "<div>\n",
       "<style scoped>\n",
       "    .dataframe tbody tr th:only-of-type {\n",
       "        vertical-align: middle;\n",
       "    }\n",
       "\n",
       "    .dataframe tbody tr th {\n",
       "        vertical-align: top;\n",
       "    }\n",
       "\n",
       "    .dataframe thead th {\n",
       "        text-align: right;\n",
       "    }\n",
       "</style>\n",
       "<table border=\"1\" class=\"dataframe\">\n",
       "  <thead>\n",
       "    <tr style=\"text-align: right;\">\n",
       "      <th></th>\n",
       "      <th>Data Source</th>\n",
       "      <th>Censoring Indicator</th>\n",
       "      <th>Count</th>\n",
       "      <th>Days</th>\n",
       "      <th>Failure Mode</th>\n",
       "    </tr>\n",
       "  </thead>\n",
       "  <tbody>\n",
       "    <tr>\n",
       "      <th>0</th>\n",
       "      <td>Field</td>\n",
       "      <td>Failed</td>\n",
       "      <td>1</td>\n",
       "      <td>181</td>\n",
       "      <td>Wear</td>\n",
       "    </tr>\n",
       "    <tr>\n",
       "      <th>1</th>\n",
       "      <td>Field</td>\n",
       "      <td>Censored</td>\n",
       "      <td>1</td>\n",
       "      <td>95</td>\n",
       "      <td>Censored</td>\n",
       "    </tr>\n",
       "    <tr>\n",
       "      <th>2</th>\n",
       "      <td>Field</td>\n",
       "      <td>Censored</td>\n",
       "      <td>1</td>\n",
       "      <td>504</td>\n",
       "      <td>Censored</td>\n",
       "    </tr>\n",
       "    <tr>\n",
       "      <th>3</th>\n",
       "      <td>Field</td>\n",
       "      <td>Censored</td>\n",
       "      <td>1</td>\n",
       "      <td>588</td>\n",
       "      <td>Censored</td>\n",
       "    </tr>\n",
       "    <tr>\n",
       "      <th>4</th>\n",
       "      <td>Field</td>\n",
       "      <td>Censored</td>\n",
       "      <td>1</td>\n",
       "      <td>386</td>\n",
       "      <td>Censored</td>\n",
       "    </tr>\n",
       "    <tr>\n",
       "      <th>...</th>\n",
       "      <td>...</td>\n",
       "      <td>...</td>\n",
       "      <td>...</td>\n",
       "      <td>...</td>\n",
       "      <td>...</td>\n",
       "    </tr>\n",
       "    <tr>\n",
       "      <th>364</th>\n",
       "      <td>Field</td>\n",
       "      <td>Censored</td>\n",
       "      <td>8</td>\n",
       "      <td>14</td>\n",
       "      <td>Censored</td>\n",
       "    </tr>\n",
       "    <tr>\n",
       "      <th>365</th>\n",
       "      <td>Field</td>\n",
       "      <td>Censored</td>\n",
       "      <td>38</td>\n",
       "      <td>12</td>\n",
       "      <td>Censored</td>\n",
       "    </tr>\n",
       "    <tr>\n",
       "      <th>366</th>\n",
       "      <td>Field</td>\n",
       "      <td>Censored</td>\n",
       "      <td>16</td>\n",
       "      <td>10</td>\n",
       "      <td>Censored</td>\n",
       "    </tr>\n",
       "    <tr>\n",
       "      <th>367</th>\n",
       "      <td>Field</td>\n",
       "      <td>Censored</td>\n",
       "      <td>1</td>\n",
       "      <td>9</td>\n",
       "      <td>Censored</td>\n",
       "    </tr>\n",
       "    <tr>\n",
       "      <th>368</th>\n",
       "      <td>Field</td>\n",
       "      <td>Censored</td>\n",
       "      <td>19</td>\n",
       "      <td>6</td>\n",
       "      <td>Censored</td>\n",
       "    </tr>\n",
       "  </tbody>\n",
       "</table>\n",
       "<p>369 rows × 5 columns</p>\n",
       "</div>"
      ],
      "text/plain": [
       "    Data Source Censoring Indicator  Count  Days Failure Mode\n",
       "0         Field              Failed      1   181         Wear\n",
       "1         Field            Censored      1    95     Censored\n",
       "2         Field            Censored      1   504     Censored\n",
       "3         Field            Censored      1   588     Censored\n",
       "4         Field            Censored      1   386     Censored\n",
       "..          ...                 ...    ...   ...          ...\n",
       "364       Field            Censored      8    14     Censored\n",
       "365       Field            Censored     38    12     Censored\n",
       "366       Field            Censored     16    10     Censored\n",
       "367       Field            Censored      1     9     Censored\n",
       "368       Field            Censored     19     6     Censored\n",
       "\n",
       "[369 rows x 5 columns]"
      ]
     },
     "execution_count": 3,
     "metadata": {},
     "output_type": "execute_result"
    }
   ],
   "source": [
    "field_data = pd.read_csv(\"2 Field Failure-time Data/ApplianceBField.csv\")\n",
    "field_data"
   ]
  },
  {
   "cell_type": "markdown",
   "metadata": {},
   "source": [
    "**Compare the two Datasets here**\n"
   ]
  },
  {
   "cell_type": "code",
   "execution_count": 75,
   "metadata": {},
   "outputs": [
    {
     "data": {
      "text/plain": [
       "Censored    257\n",
       "Failed      141\n",
       "Name: Censoring Indicator, dtype: int64"
      ]
     },
     "execution_count": 75,
     "metadata": {},
     "output_type": "execute_result"
    }
   ],
   "source": [
    "lab_data['Data Source'].value_counts()\n",
    "lab_data_failed = lab_data[lab_data[\"Censoring Indicator\"] == 'Failed']\n",
    "lab_data[\"Censoring Indicator\"].value_counts()"
   ]
  },
  {
   "cell_type": "code",
   "execution_count": 10,
   "metadata": {},
   "outputs": [
    {
     "data": {
      "text/plain": [
       "Wear       101\n",
       "Cracked     40\n",
       "Name: Failure Mode, dtype: int64"
      ]
     },
     "execution_count": 10,
     "metadata": {},
     "output_type": "execute_result"
    }
   ],
   "source": [
    "lab_data_failed[\"Failure Mode\"].value_counts()"
   ]
  },
  {
   "cell_type": "code",
   "execution_count": 14,
   "metadata": {},
   "outputs": [
    {
     "data": {
      "text/html": [
       "<div>\n",
       "<style scoped>\n",
       "    .dataframe tbody tr th:only-of-type {\n",
       "        vertical-align: middle;\n",
       "    }\n",
       "\n",
       "    .dataframe tbody tr th {\n",
       "        vertical-align: top;\n",
       "    }\n",
       "\n",
       "    .dataframe thead th {\n",
       "        text-align: right;\n",
       "    }\n",
       "</style>\n",
       "<table border=\"1\" class=\"dataframe\">\n",
       "  <thead>\n",
       "    <tr style=\"text-align: right;\">\n",
       "      <th></th>\n",
       "      <th>Data Source</th>\n",
       "      <th>Censoring Indicator</th>\n",
       "      <th>Count</th>\n",
       "      <th>Days</th>\n",
       "      <th>Failure Mode</th>\n",
       "    </tr>\n",
       "  </thead>\n",
       "  <tbody>\n",
       "    <tr>\n",
       "      <th>372</th>\n",
       "      <td>WearTest</td>\n",
       "      <td>Failed</td>\n",
       "      <td>1</td>\n",
       "      <td>687</td>\n",
       "      <td>Wear</td>\n",
       "    </tr>\n",
       "  </tbody>\n",
       "</table>\n",
       "</div>"
      ],
      "text/plain": [
       "    Data Source Censoring Indicator  Count  Days Failure Mode\n",
       "372    WearTest              Failed      1   687         Wear"
      ]
     },
     "execution_count": 14,
     "metadata": {},
     "output_type": "execute_result"
    }
   ],
   "source": [
    "lab_data_failed[lab_data_failed[\"Days\"]==687]"
   ]
  },
  {
   "cell_type": "code",
   "execution_count": 20,
   "metadata": {},
   "outputs": [
    {
     "data": {
      "text/plain": [
       "141"
      ]
     },
     "execution_count": 20,
     "metadata": {},
     "output_type": "execute_result"
    }
   ],
   "source": [
    "total_lab_appliance=lab_data.Count.sum()\n",
    "total_lab_app_failure = lab_data_failed.Count.sum()\n",
    "total_lab_app_failure"
   ]
  },
  {
   "cell_type": "code",
   "execution_count": 34,
   "metadata": {},
   "outputs": [
    {
     "data": {
      "text/html": [
       "<div>\n",
       "<style scoped>\n",
       "    .dataframe tbody tr th:only-of-type {\n",
       "        vertical-align: middle;\n",
       "    }\n",
       "\n",
       "    .dataframe tbody tr th {\n",
       "        vertical-align: top;\n",
       "    }\n",
       "\n",
       "    .dataframe thead th {\n",
       "        text-align: right;\n",
       "    }\n",
       "</style>\n",
       "<table border=\"1\" class=\"dataframe\">\n",
       "  <thead>\n",
       "    <tr style=\"text-align: right;\">\n",
       "      <th></th>\n",
       "      <th>Failed or Not</th>\n",
       "      <th>Count</th>\n",
       "    </tr>\n",
       "  </thead>\n",
       "  <tbody>\n",
       "    <tr>\n",
       "      <th>0</th>\n",
       "      <td>Not Failed</td>\n",
       "      <td>4617</td>\n",
       "    </tr>\n",
       "    <tr>\n",
       "      <th>1</th>\n",
       "      <td>Failed</td>\n",
       "      <td>141</td>\n",
       "    </tr>\n",
       "  </tbody>\n",
       "</table>\n",
       "</div>"
      ],
      "text/plain": [
       "  Failed or Not  Count\n",
       "0    Not Failed   4617\n",
       "1        Failed    141"
      ]
     },
     "execution_count": 34,
     "metadata": {},
     "output_type": "execute_result"
    }
   ],
   "source": [
    "table1 = [[\"Not Failed\", total_lab_appliance-total_lab_app_failure],[\"Failed\", total_lab_app_failure]]\n",
    "test = pd.DataFrame(table1, columns=[\"Failed or Not\", \"Count\"])\n",
    "test"
   ]
  },
  {
   "cell_type": "code",
   "execution_count": 58,
   "metadata": {},
   "outputs": [
    {
     "data": {
      "application/vnd.plotly.v1+json": {
       "config": {
        "plotlyServerURL": "https://plot.ly"
       },
       "data": [
        {
         "alignmentgroup": "True",
         "hovertemplate": "Appliance Status=%{x}<br>Count=%{y}<extra></extra>",
         "legendgroup": "",
         "marker": {
          "color": "#636efa",
          "pattern": {
           "shape": ""
          }
         },
         "name": "",
         "offsetgroup": "",
         "orientation": "v",
         "showlegend": false,
         "textposition": "auto",
         "type": "bar",
         "x": [
          "Not Failed",
          "Failed"
         ],
         "xaxis": "x",
         "y": [
          0.9703656998738966,
          0.029634300126103404
         ],
         "yaxis": "y"
        }
       ],
       "layout": {
        "barmode": "relative",
        "font": {
         "size": 18
        },
        "height": 400,
        "legend": {
         "tracegroupgap": 0
        },
        "margin": {
         "t": 60
        },
        "template": {
         "data": {
          "bar": [
           {
            "error_x": {
             "color": "#2a3f5f"
            },
            "error_y": {
             "color": "#2a3f5f"
            },
            "marker": {
             "line": {
              "color": "#E5ECF6",
              "width": 0.5
             },
             "pattern": {
              "fillmode": "overlay",
              "size": 10,
              "solidity": 0.2
             }
            },
            "type": "bar"
           }
          ],
          "barpolar": [
           {
            "marker": {
             "line": {
              "color": "#E5ECF6",
              "width": 0.5
             },
             "pattern": {
              "fillmode": "overlay",
              "size": 10,
              "solidity": 0.2
             }
            },
            "type": "barpolar"
           }
          ],
          "carpet": [
           {
            "aaxis": {
             "endlinecolor": "#2a3f5f",
             "gridcolor": "white",
             "linecolor": "white",
             "minorgridcolor": "white",
             "startlinecolor": "#2a3f5f"
            },
            "baxis": {
             "endlinecolor": "#2a3f5f",
             "gridcolor": "white",
             "linecolor": "white",
             "minorgridcolor": "white",
             "startlinecolor": "#2a3f5f"
            },
            "type": "carpet"
           }
          ],
          "choropleth": [
           {
            "colorbar": {
             "outlinewidth": 0,
             "ticks": ""
            },
            "type": "choropleth"
           }
          ],
          "contour": [
           {
            "colorbar": {
             "outlinewidth": 0,
             "ticks": ""
            },
            "colorscale": [
             [
              0,
              "#0d0887"
             ],
             [
              0.1111111111111111,
              "#46039f"
             ],
             [
              0.2222222222222222,
              "#7201a8"
             ],
             [
              0.3333333333333333,
              "#9c179e"
             ],
             [
              0.4444444444444444,
              "#bd3786"
             ],
             [
              0.5555555555555556,
              "#d8576b"
             ],
             [
              0.6666666666666666,
              "#ed7953"
             ],
             [
              0.7777777777777778,
              "#fb9f3a"
             ],
             [
              0.8888888888888888,
              "#fdca26"
             ],
             [
              1,
              "#f0f921"
             ]
            ],
            "type": "contour"
           }
          ],
          "contourcarpet": [
           {
            "colorbar": {
             "outlinewidth": 0,
             "ticks": ""
            },
            "type": "contourcarpet"
           }
          ],
          "heatmap": [
           {
            "colorbar": {
             "outlinewidth": 0,
             "ticks": ""
            },
            "colorscale": [
             [
              0,
              "#0d0887"
             ],
             [
              0.1111111111111111,
              "#46039f"
             ],
             [
              0.2222222222222222,
              "#7201a8"
             ],
             [
              0.3333333333333333,
              "#9c179e"
             ],
             [
              0.4444444444444444,
              "#bd3786"
             ],
             [
              0.5555555555555556,
              "#d8576b"
             ],
             [
              0.6666666666666666,
              "#ed7953"
             ],
             [
              0.7777777777777778,
              "#fb9f3a"
             ],
             [
              0.8888888888888888,
              "#fdca26"
             ],
             [
              1,
              "#f0f921"
             ]
            ],
            "type": "heatmap"
           }
          ],
          "heatmapgl": [
           {
            "colorbar": {
             "outlinewidth": 0,
             "ticks": ""
            },
            "colorscale": [
             [
              0,
              "#0d0887"
             ],
             [
              0.1111111111111111,
              "#46039f"
             ],
             [
              0.2222222222222222,
              "#7201a8"
             ],
             [
              0.3333333333333333,
              "#9c179e"
             ],
             [
              0.4444444444444444,
              "#bd3786"
             ],
             [
              0.5555555555555556,
              "#d8576b"
             ],
             [
              0.6666666666666666,
              "#ed7953"
             ],
             [
              0.7777777777777778,
              "#fb9f3a"
             ],
             [
              0.8888888888888888,
              "#fdca26"
             ],
             [
              1,
              "#f0f921"
             ]
            ],
            "type": "heatmapgl"
           }
          ],
          "histogram": [
           {
            "marker": {
             "pattern": {
              "fillmode": "overlay",
              "size": 10,
              "solidity": 0.2
             }
            },
            "type": "histogram"
           }
          ],
          "histogram2d": [
           {
            "colorbar": {
             "outlinewidth": 0,
             "ticks": ""
            },
            "colorscale": [
             [
              0,
              "#0d0887"
             ],
             [
              0.1111111111111111,
              "#46039f"
             ],
             [
              0.2222222222222222,
              "#7201a8"
             ],
             [
              0.3333333333333333,
              "#9c179e"
             ],
             [
              0.4444444444444444,
              "#bd3786"
             ],
             [
              0.5555555555555556,
              "#d8576b"
             ],
             [
              0.6666666666666666,
              "#ed7953"
             ],
             [
              0.7777777777777778,
              "#fb9f3a"
             ],
             [
              0.8888888888888888,
              "#fdca26"
             ],
             [
              1,
              "#f0f921"
             ]
            ],
            "type": "histogram2d"
           }
          ],
          "histogram2dcontour": [
           {
            "colorbar": {
             "outlinewidth": 0,
             "ticks": ""
            },
            "colorscale": [
             [
              0,
              "#0d0887"
             ],
             [
              0.1111111111111111,
              "#46039f"
             ],
             [
              0.2222222222222222,
              "#7201a8"
             ],
             [
              0.3333333333333333,
              "#9c179e"
             ],
             [
              0.4444444444444444,
              "#bd3786"
             ],
             [
              0.5555555555555556,
              "#d8576b"
             ],
             [
              0.6666666666666666,
              "#ed7953"
             ],
             [
              0.7777777777777778,
              "#fb9f3a"
             ],
             [
              0.8888888888888888,
              "#fdca26"
             ],
             [
              1,
              "#f0f921"
             ]
            ],
            "type": "histogram2dcontour"
           }
          ],
          "mesh3d": [
           {
            "colorbar": {
             "outlinewidth": 0,
             "ticks": ""
            },
            "type": "mesh3d"
           }
          ],
          "parcoords": [
           {
            "line": {
             "colorbar": {
              "outlinewidth": 0,
              "ticks": ""
             }
            },
            "type": "parcoords"
           }
          ],
          "pie": [
           {
            "automargin": true,
            "type": "pie"
           }
          ],
          "scatter": [
           {
            "fillpattern": {
             "fillmode": "overlay",
             "size": 10,
             "solidity": 0.2
            },
            "type": "scatter"
           }
          ],
          "scatter3d": [
           {
            "line": {
             "colorbar": {
              "outlinewidth": 0,
              "ticks": ""
             }
            },
            "marker": {
             "colorbar": {
              "outlinewidth": 0,
              "ticks": ""
             }
            },
            "type": "scatter3d"
           }
          ],
          "scattercarpet": [
           {
            "marker": {
             "colorbar": {
              "outlinewidth": 0,
              "ticks": ""
             }
            },
            "type": "scattercarpet"
           }
          ],
          "scattergeo": [
           {
            "marker": {
             "colorbar": {
              "outlinewidth": 0,
              "ticks": ""
             }
            },
            "type": "scattergeo"
           }
          ],
          "scattergl": [
           {
            "marker": {
             "colorbar": {
              "outlinewidth": 0,
              "ticks": ""
             }
            },
            "type": "scattergl"
           }
          ],
          "scattermapbox": [
           {
            "marker": {
             "colorbar": {
              "outlinewidth": 0,
              "ticks": ""
             }
            },
            "type": "scattermapbox"
           }
          ],
          "scatterpolar": [
           {
            "marker": {
             "colorbar": {
              "outlinewidth": 0,
              "ticks": ""
             }
            },
            "type": "scatterpolar"
           }
          ],
          "scatterpolargl": [
           {
            "marker": {
             "colorbar": {
              "outlinewidth": 0,
              "ticks": ""
             }
            },
            "type": "scatterpolargl"
           }
          ],
          "scatterternary": [
           {
            "marker": {
             "colorbar": {
              "outlinewidth": 0,
              "ticks": ""
             }
            },
            "type": "scatterternary"
           }
          ],
          "surface": [
           {
            "colorbar": {
             "outlinewidth": 0,
             "ticks": ""
            },
            "colorscale": [
             [
              0,
              "#0d0887"
             ],
             [
              0.1111111111111111,
              "#46039f"
             ],
             [
              0.2222222222222222,
              "#7201a8"
             ],
             [
              0.3333333333333333,
              "#9c179e"
             ],
             [
              0.4444444444444444,
              "#bd3786"
             ],
             [
              0.5555555555555556,
              "#d8576b"
             ],
             [
              0.6666666666666666,
              "#ed7953"
             ],
             [
              0.7777777777777778,
              "#fb9f3a"
             ],
             [
              0.8888888888888888,
              "#fdca26"
             ],
             [
              1,
              "#f0f921"
             ]
            ],
            "type": "surface"
           }
          ],
          "table": [
           {
            "cells": {
             "fill": {
              "color": "#EBF0F8"
             },
             "line": {
              "color": "white"
             }
            },
            "header": {
             "fill": {
              "color": "#C8D4E3"
             },
             "line": {
              "color": "white"
             }
            },
            "type": "table"
           }
          ]
         },
         "layout": {
          "annotationdefaults": {
           "arrowcolor": "#2a3f5f",
           "arrowhead": 0,
           "arrowwidth": 1
          },
          "autotypenumbers": "strict",
          "coloraxis": {
           "colorbar": {
            "outlinewidth": 0,
            "ticks": ""
           }
          },
          "colorscale": {
           "diverging": [
            [
             0,
             "#8e0152"
            ],
            [
             0.1,
             "#c51b7d"
            ],
            [
             0.2,
             "#de77ae"
            ],
            [
             0.3,
             "#f1b6da"
            ],
            [
             0.4,
             "#fde0ef"
            ],
            [
             0.5,
             "#f7f7f7"
            ],
            [
             0.6,
             "#e6f5d0"
            ],
            [
             0.7,
             "#b8e186"
            ],
            [
             0.8,
             "#7fbc41"
            ],
            [
             0.9,
             "#4d9221"
            ],
            [
             1,
             "#276419"
            ]
           ],
           "sequential": [
            [
             0,
             "#0d0887"
            ],
            [
             0.1111111111111111,
             "#46039f"
            ],
            [
             0.2222222222222222,
             "#7201a8"
            ],
            [
             0.3333333333333333,
             "#9c179e"
            ],
            [
             0.4444444444444444,
             "#bd3786"
            ],
            [
             0.5555555555555556,
             "#d8576b"
            ],
            [
             0.6666666666666666,
             "#ed7953"
            ],
            [
             0.7777777777777778,
             "#fb9f3a"
            ],
            [
             0.8888888888888888,
             "#fdca26"
            ],
            [
             1,
             "#f0f921"
            ]
           ],
           "sequentialminus": [
            [
             0,
             "#0d0887"
            ],
            [
             0.1111111111111111,
             "#46039f"
            ],
            [
             0.2222222222222222,
             "#7201a8"
            ],
            [
             0.3333333333333333,
             "#9c179e"
            ],
            [
             0.4444444444444444,
             "#bd3786"
            ],
            [
             0.5555555555555556,
             "#d8576b"
            ],
            [
             0.6666666666666666,
             "#ed7953"
            ],
            [
             0.7777777777777778,
             "#fb9f3a"
            ],
            [
             0.8888888888888888,
             "#fdca26"
            ],
            [
             1,
             "#f0f921"
            ]
           ]
          },
          "colorway": [
           "#636efa",
           "#EF553B",
           "#00cc96",
           "#ab63fa",
           "#FFA15A",
           "#19d3f3",
           "#FF6692",
           "#B6E880",
           "#FF97FF",
           "#FECB52"
          ],
          "font": {
           "color": "#2a3f5f"
          },
          "geo": {
           "bgcolor": "white",
           "lakecolor": "white",
           "landcolor": "#E5ECF6",
           "showlakes": true,
           "showland": true,
           "subunitcolor": "white"
          },
          "hoverlabel": {
           "align": "left"
          },
          "hovermode": "closest",
          "mapbox": {
           "style": "light"
          },
          "paper_bgcolor": "white",
          "plot_bgcolor": "#E5ECF6",
          "polar": {
           "angularaxis": {
            "gridcolor": "white",
            "linecolor": "white",
            "ticks": ""
           },
           "bgcolor": "#E5ECF6",
           "radialaxis": {
            "gridcolor": "white",
            "linecolor": "white",
            "ticks": ""
           }
          },
          "scene": {
           "xaxis": {
            "backgroundcolor": "#E5ECF6",
            "gridcolor": "white",
            "gridwidth": 2,
            "linecolor": "white",
            "showbackground": true,
            "ticks": "",
            "zerolinecolor": "white"
           },
           "yaxis": {
            "backgroundcolor": "#E5ECF6",
            "gridcolor": "white",
            "gridwidth": 2,
            "linecolor": "white",
            "showbackground": true,
            "ticks": "",
            "zerolinecolor": "white"
           },
           "zaxis": {
            "backgroundcolor": "#E5ECF6",
            "gridcolor": "white",
            "gridwidth": 2,
            "linecolor": "white",
            "showbackground": true,
            "ticks": "",
            "zerolinecolor": "white"
           }
          },
          "shapedefaults": {
           "line": {
            "color": "#2a3f5f"
           }
          },
          "ternary": {
           "aaxis": {
            "gridcolor": "white",
            "linecolor": "white",
            "ticks": ""
           },
           "baxis": {
            "gridcolor": "white",
            "linecolor": "white",
            "ticks": ""
           },
           "bgcolor": "#E5ECF6",
           "caxis": {
            "gridcolor": "white",
            "linecolor": "white",
            "ticks": ""
           }
          },
          "title": {
           "x": 0.05
          },
          "xaxis": {
           "automargin": true,
           "gridcolor": "white",
           "linecolor": "white",
           "ticks": "",
           "title": {
            "standoff": 15
           },
           "zerolinecolor": "white",
           "zerolinewidth": 2
          },
          "yaxis": {
           "automargin": true,
           "gridcolor": "white",
           "linecolor": "white",
           "ticks": "",
           "title": {
            "standoff": 15
           },
           "zerolinecolor": "white",
           "zerolinewidth": 2
          }
         }
        },
        "title": {
         "text": "Appliance Status from Lab Study"
        },
        "width": 800,
        "xaxis": {
         "anchor": "y",
         "domain": [
          0,
          1
         ],
         "title": {
          "text": "Appliance Status"
         }
        },
        "yaxis": {
         "anchor": "x",
         "domain": [
          0,
          1
         ],
         "title": {
          "text": "Unit Count %"
         }
        }
       }
      }
     },
     "metadata": {},
     "output_type": "display_data"
    }
   ],
   "source": [
    "test2 = test.copy()\n",
    "test2.Count = (test2[\"Count\"]/test2[\"Count\"].sum())\n",
    "test2\n",
    "fig1 = px.bar(test2, x=test[\"Failed or Not\"], y=\"Count\", width=800, height=400,\n",
    "    labels=dict(x=\"Appliance Status\", color=\"Place\"),\n",
    "    )\n",
    "fig1.update_layout(\n",
    "    title=\"Appliance Status from Lab Study\",\n",
    "    xaxis_title=\"Appliance Status\",\n",
    "    yaxis_title=\"Unit Count %\",\n",
    "    font=dict(\n",
    "        size=18\n",
    "    )\n",
    ")\n",
    "fig1.show()"
   ]
  },
  {
   "cell_type": "markdown",
   "metadata": {},
   "source": [
    "Lab results for the appliance failure rate over the study period.  In the end, only about **3%** of the units studied failed during accelerated degredation lab tests.  We will compare this along with the types of failures and counts of each type later in the notebook with the data collected from the field."
   ]
  },
  {
   "cell_type": "code",
   "execution_count": 94,
   "metadata": {},
   "outputs": [
    {
     "data": {
      "text/html": [
       "<div>\n",
       "<style scoped>\n",
       "    .dataframe tbody tr th:only-of-type {\n",
       "        vertical-align: middle;\n",
       "    }\n",
       "\n",
       "    .dataframe tbody tr th {\n",
       "        vertical-align: top;\n",
       "    }\n",
       "\n",
       "    .dataframe thead th {\n",
       "        text-align: right;\n",
       "    }\n",
       "</style>\n",
       "<table border=\"1\" class=\"dataframe\">\n",
       "  <thead>\n",
       "    <tr style=\"text-align: right;\">\n",
       "      <th></th>\n",
       "      <th>Data Source</th>\n",
       "      <th>Censoring Indicator</th>\n",
       "      <th>Count</th>\n",
       "      <th>Days</th>\n",
       "      <th>Failure Mode</th>\n",
       "      <th>Failures Per Year</th>\n",
       "      <th>Wear FPY</th>\n",
       "      <th>Cracked FPY</th>\n",
       "    </tr>\n",
       "  </thead>\n",
       "  <tbody>\n",
       "    <tr>\n",
       "      <th>0</th>\n",
       "      <td>Field</td>\n",
       "      <td>Failed</td>\n",
       "      <td>1</td>\n",
       "      <td>181</td>\n",
       "      <td>Wear</td>\n",
       "      <td>2.016575</td>\n",
       "      <td>2.016575</td>\n",
       "      <td>0.0</td>\n",
       "    </tr>\n",
       "    <tr>\n",
       "      <th>6</th>\n",
       "      <td>Field</td>\n",
       "      <td>Failed</td>\n",
       "      <td>1</td>\n",
       "      <td>278</td>\n",
       "      <td>Wear</td>\n",
       "      <td>1.312950</td>\n",
       "      <td>1.312950</td>\n",
       "      <td>0.0</td>\n",
       "    </tr>\n",
       "    <tr>\n",
       "      <th>9</th>\n",
       "      <td>Field</td>\n",
       "      <td>Failed</td>\n",
       "      <td>1</td>\n",
       "      <td>493</td>\n",
       "      <td>Wear</td>\n",
       "      <td>0.740365</td>\n",
       "      <td>0.740365</td>\n",
       "      <td>0.0</td>\n",
       "    </tr>\n",
       "    <tr>\n",
       "      <th>10</th>\n",
       "      <td>Field</td>\n",
       "      <td>Failed</td>\n",
       "      <td>1</td>\n",
       "      <td>223</td>\n",
       "      <td>Wear</td>\n",
       "      <td>1.636771</td>\n",
       "      <td>1.636771</td>\n",
       "      <td>0.0</td>\n",
       "    </tr>\n",
       "    <tr>\n",
       "      <th>12</th>\n",
       "      <td>Field</td>\n",
       "      <td>Failed</td>\n",
       "      <td>1</td>\n",
       "      <td>269</td>\n",
       "      <td>Wear</td>\n",
       "      <td>1.356877</td>\n",
       "      <td>1.356877</td>\n",
       "      <td>0.0</td>\n",
       "    </tr>\n",
       "  </tbody>\n",
       "</table>\n",
       "</div>"
      ],
      "text/plain": [
       "   Data Source Censoring Indicator  Count  Days Failure Mode  \\\n",
       "0        Field              Failed      1   181         Wear   \n",
       "6        Field              Failed      1   278         Wear   \n",
       "9        Field              Failed      1   493         Wear   \n",
       "10       Field              Failed      1   223         Wear   \n",
       "12       Field              Failed      1   269         Wear   \n",
       "\n",
       "    Failures Per Year  Wear FPY  Cracked FPY  \n",
       "0            2.016575  2.016575          0.0  \n",
       "6            1.312950  1.312950          0.0  \n",
       "9            0.740365  0.740365          0.0  \n",
       "10           1.636771  1.636771          0.0  \n",
       "12           1.356877  1.356877          0.0  "
      ]
     },
     "execution_count": 94,
     "metadata": {},
     "output_type": "execute_result"
    }
   ],
   "source": [
    "#take the failed rows and divide their count by the days it took for a failure.\n",
    "array1 = lab_data_failed['Count']/(lab_data_failed['Days']/365)\n",
    "lab_data_failed['Failures Per Year'] = array1\n",
    "lab_data_failed['Wear FPY'] =   lab_data_failed[lab_data_failed[\"Failure Mode\"]==\"Wear\"][\"Failures Per Year\"]\n",
    "lab_data_failed['Cracked FPY'] = lab_data_failed[lab_data_failed[\"Failure Mode\"]==\"Cracked\"]['Failures Per Year'] \n",
    "lab_data_failed = lab_data_failed.fillna(0)\n",
    "lab_data_failed.head()"
   ]
  },
  {
   "cell_type": "code",
   "execution_count": 98,
   "metadata": {},
   "outputs": [
    {
     "data": {
      "text/html": [
       "<div>\n",
       "<style scoped>\n",
       "    .dataframe tbody tr th:only-of-type {\n",
       "        vertical-align: middle;\n",
       "    }\n",
       "\n",
       "    .dataframe tbody tr th {\n",
       "        vertical-align: top;\n",
       "    }\n",
       "\n",
       "    .dataframe thead th {\n",
       "        text-align: right;\n",
       "    }\n",
       "</style>\n",
       "<table border=\"1\" class=\"dataframe\">\n",
       "  <thead>\n",
       "    <tr style=\"text-align: right;\">\n",
       "      <th></th>\n",
       "      <th>Cracked FPY</th>\n",
       "      <th>Wear FPY</th>\n",
       "    </tr>\n",
       "    <tr>\n",
       "      <th>Failure Mode</th>\n",
       "      <th></th>\n",
       "      <th></th>\n",
       "    </tr>\n",
       "  </thead>\n",
       "  <tbody>\n",
       "    <tr>\n",
       "      <th>Cracked</th>\n",
       "      <td>52.757344</td>\n",
       "      <td>0.000000</td>\n",
       "    </tr>\n",
       "    <tr>\n",
       "      <th>Wear</th>\n",
       "      <td>0.000000</td>\n",
       "      <td>164.601821</td>\n",
       "    </tr>\n",
       "  </tbody>\n",
       "</table>\n",
       "</div>"
      ],
      "text/plain": [
       "              Cracked FPY    Wear FPY\n",
       "Failure Mode                         \n",
       "Cracked         52.757344    0.000000\n",
       "Wear             0.000000  164.601821"
      ]
     },
     "execution_count": 98,
     "metadata": {},
     "output_type": "execute_result"
    }
   ],
   "source": [
    "#Sum up two failure per year types\n",
    "lab_fpy = pd.pivot_table(data = lab_data_failed, values=['Wear FPY', 'Cracked FPY'], index='Failure Mode', aggfunc=np.sum)\n",
    "lab_fpy"
   ]
  },
  {
   "cell_type": "markdown",
   "metadata": {},
   "source": [
    "Grab Backblaze data and compare it to manufacturer wear statements\n"
   ]
  },
  {
   "cell_type": "code",
   "execution_count": 106,
   "metadata": {},
   "outputs": [
    {
     "data": {
      "text/html": [
       "<div>\n",
       "<style scoped>\n",
       "    .dataframe tbody tr th:only-of-type {\n",
       "        vertical-align: middle;\n",
       "    }\n",
       "\n",
       "    .dataframe tbody tr th {\n",
       "        vertical-align: top;\n",
       "    }\n",
       "\n",
       "    .dataframe thead th {\n",
       "        text-align: right;\n",
       "    }\n",
       "</style>\n",
       "<table border=\"1\" class=\"dataframe\">\n",
       "  <thead>\n",
       "    <tr style=\"text-align: right;\">\n",
       "      <th></th>\n",
       "      <th>Serial Number</th>\n",
       "      <th>Model</th>\n",
       "      <th>Start Date</th>\n",
       "      <th>End  Date</th>\n",
       "      <th>Hours Lower</th>\n",
       "      <th>Hours Upper</th>\n",
       "      <th>Failed</th>\n",
       "      <th>Censored</th>\n",
       "      <th>Drive Model Name</th>\n",
       "    </tr>\n",
       "  </thead>\n",
       "  <tbody>\n",
       "    <tr>\n",
       "      <th>0</th>\n",
       "      <td>13H2B97AS</td>\n",
       "      <td>35</td>\n",
       "      <td>10/15/2013</td>\n",
       "      <td>3/31/2016</td>\n",
       "      <td>1349</td>\n",
       "      <td>18433</td>\n",
       "      <td>0</td>\n",
       "      <td>True</td>\n",
       "      <td>TOSHIBA DT01ACA300</td>\n",
       "    </tr>\n",
       "    <tr>\n",
       "      <th>1</th>\n",
       "      <td>13H3012AS</td>\n",
       "      <td>35</td>\n",
       "      <td>10/15/2013</td>\n",
       "      <td>9/8/2014</td>\n",
       "      <td>1256</td>\n",
       "      <td>9122</td>\n",
       "      <td>0</td>\n",
       "      <td>True</td>\n",
       "      <td>TOSHIBA DT01ACA300</td>\n",
       "    </tr>\n",
       "    <tr>\n",
       "      <th>2</th>\n",
       "      <td>13H32WEAS</td>\n",
       "      <td>35</td>\n",
       "      <td>4/26/2013</td>\n",
       "      <td>3/31/2016</td>\n",
       "      <td>8</td>\n",
       "      <td>25684</td>\n",
       "      <td>0</td>\n",
       "      <td>True</td>\n",
       "      <td>TOSHIBA DT01ACA300</td>\n",
       "    </tr>\n",
       "    <tr>\n",
       "      <th>3</th>\n",
       "      <td>13H6A0DGS</td>\n",
       "      <td>35</td>\n",
       "      <td>4/20/2013</td>\n",
       "      <td>9/2/2014</td>\n",
       "      <td>13</td>\n",
       "      <td>12006</td>\n",
       "      <td>0</td>\n",
       "      <td>True</td>\n",
       "      <td>TOSHIBA DT01ACA300</td>\n",
       "    </tr>\n",
       "    <tr>\n",
       "      <th>4</th>\n",
       "      <td>13H6A21GS</td>\n",
       "      <td>35</td>\n",
       "      <td>5/22/2013</td>\n",
       "      <td>3/31/2016</td>\n",
       "      <td>14</td>\n",
       "      <td>25050</td>\n",
       "      <td>0</td>\n",
       "      <td>True</td>\n",
       "      <td>TOSHIBA DT01ACA300</td>\n",
       "    </tr>\n",
       "    <tr>\n",
       "      <th>...</th>\n",
       "      <td>...</td>\n",
       "      <td>...</td>\n",
       "      <td>...</td>\n",
       "      <td>...</td>\n",
       "      <td>...</td>\n",
       "      <td>...</td>\n",
       "      <td>...</td>\n",
       "      <td>...</td>\n",
       "      <td>...</td>\n",
       "    </tr>\n",
       "    <tr>\n",
       "      <th>75291</th>\n",
       "      <td>Z4D1X9LF</td>\n",
       "      <td>32</td>\n",
       "      <td>8/4/2015</td>\n",
       "      <td>3/31/2016</td>\n",
       "      <td>10</td>\n",
       "      <td>5770</td>\n",
       "      <td>0</td>\n",
       "      <td>True</td>\n",
       "      <td>ST6000DX000</td>\n",
       "    </tr>\n",
       "    <tr>\n",
       "      <th>75292</th>\n",
       "      <td>Z4D1XXJX</td>\n",
       "      <td>32</td>\n",
       "      <td>6/27/2015</td>\n",
       "      <td>3/31/2016</td>\n",
       "      <td>3</td>\n",
       "      <td>6675</td>\n",
       "      <td>0</td>\n",
       "      <td>True</td>\n",
       "      <td>ST6000DX000</td>\n",
       "    </tr>\n",
       "    <tr>\n",
       "      <th>75293</th>\n",
       "      <td>Z4D1XY09</td>\n",
       "      <td>32</td>\n",
       "      <td>6/2/2015</td>\n",
       "      <td>3/31/2016</td>\n",
       "      <td>7</td>\n",
       "      <td>7280</td>\n",
       "      <td>0</td>\n",
       "      <td>True</td>\n",
       "      <td>ST6000DX000</td>\n",
       "    </tr>\n",
       "    <tr>\n",
       "      <th>75294</th>\n",
       "      <td>Z4D29XNF</td>\n",
       "      <td>32</td>\n",
       "      <td>8/22/2015</td>\n",
       "      <td>3/31/2016</td>\n",
       "      <td>8</td>\n",
       "      <td>5336</td>\n",
       "      <td>0</td>\n",
       "      <td>True</td>\n",
       "      <td>ST6000DX000</td>\n",
       "    </tr>\n",
       "    <tr>\n",
       "      <th>75295</th>\n",
       "      <td>Z4D2B5EC</td>\n",
       "      <td>32</td>\n",
       "      <td>11/11/2015</td>\n",
       "      <td>3/31/2016</td>\n",
       "      <td>14</td>\n",
       "      <td>3398</td>\n",
       "      <td>0</td>\n",
       "      <td>True</td>\n",
       "      <td>ST6000DX000</td>\n",
       "    </tr>\n",
       "  </tbody>\n",
       "</table>\n",
       "<p>75296 rows × 9 columns</p>\n",
       "</div>"
      ],
      "text/plain": [
       "      Serial Number  Model  Start Date  End  Date  Hours Lower  Hours Upper  \\\n",
       "0         13H2B97AS     35  10/15/2013  3/31/2016         1349        18433   \n",
       "1         13H3012AS     35  10/15/2013   9/8/2014         1256         9122   \n",
       "2         13H32WEAS     35   4/26/2013  3/31/2016            8        25684   \n",
       "3         13H6A0DGS     35   4/20/2013   9/2/2014           13        12006   \n",
       "4         13H6A21GS     35   5/22/2013  3/31/2016           14        25050   \n",
       "...             ...    ...         ...        ...          ...          ...   \n",
       "75291      Z4D1X9LF     32    8/4/2015  3/31/2016           10         5770   \n",
       "75292      Z4D1XXJX     32   6/27/2015  3/31/2016            3         6675   \n",
       "75293      Z4D1XY09     32    6/2/2015  3/31/2016            7         7280   \n",
       "75294      Z4D29XNF     32   8/22/2015  3/31/2016            8         5336   \n",
       "75295      Z4D2B5EC     32  11/11/2015  3/31/2016           14         3398   \n",
       "\n",
       "       Failed  Censored    Drive Model Name  \n",
       "0           0      True  TOSHIBA DT01ACA300  \n",
       "1           0      True  TOSHIBA DT01ACA300  \n",
       "2           0      True  TOSHIBA DT01ACA300  \n",
       "3           0      True  TOSHIBA DT01ACA300  \n",
       "4           0      True  TOSHIBA DT01ACA300  \n",
       "...       ...       ...                 ...  \n",
       "75291       0      True         ST6000DX000  \n",
       "75292       0      True         ST6000DX000  \n",
       "75293       0      True         ST6000DX000  \n",
       "75294       0      True         ST6000DX000  \n",
       "75295       0      True         ST6000DX000  \n",
       "\n",
       "[75296 rows x 9 columns]"
      ]
     },
     "execution_count": 106,
     "metadata": {},
     "output_type": "execute_result"
    }
   ],
   "source": [
    "bblaze_data_1 = pd.read_csv(\"2 Field Failure-Time Data/Backblaze1Q2016.csv\")\n",
    "bblaze_data_1_failed = bblaze_data_1[bblaze_data_1[\"Censored\"] != True]\n",
    "bblaze_data_1"
   ]
  },
  {
   "cell_type": "code",
   "execution_count": 107,
   "metadata": {},
   "outputs": [
    {
     "data": {
      "text/html": [
       "<div>\n",
       "<style scoped>\n",
       "    .dataframe tbody tr th:only-of-type {\n",
       "        vertical-align: middle;\n",
       "    }\n",
       "\n",
       "    .dataframe tbody tr th {\n",
       "        vertical-align: top;\n",
       "    }\n",
       "\n",
       "    .dataframe thead th {\n",
       "        text-align: right;\n",
       "    }\n",
       "</style>\n",
       "<table border=\"1\" class=\"dataframe\">\n",
       "  <thead>\n",
       "    <tr style=\"text-align: right;\">\n",
       "      <th></th>\n",
       "      <th>Serial Number</th>\n",
       "      <th>Model</th>\n",
       "      <th>Start Date</th>\n",
       "      <th>End  Date</th>\n",
       "      <th>Hours Lower</th>\n",
       "      <th>Hours Upper</th>\n",
       "      <th>Failed</th>\n",
       "      <th>Censored</th>\n",
       "      <th>Drive Model Name</th>\n",
       "    </tr>\n",
       "  </thead>\n",
       "  <tbody>\n",
       "    <tr>\n",
       "      <th>57</th>\n",
       "      <td>2EG33YWJ</td>\n",
       "      <td>5</td>\n",
       "      <td>2/5/2015</td>\n",
       "      <td>3/17/2015</td>\n",
       "      <td>9</td>\n",
       "      <td>968</td>\n",
       "      <td>1</td>\n",
       "      <td>False</td>\n",
       "      <td>HGST HUH728080ALE600</td>\n",
       "    </tr>\n",
       "    <tr>\n",
       "      <th>70</th>\n",
       "      <td>2EG3P7PP</td>\n",
       "      <td>5</td>\n",
       "      <td>2/5/2015</td>\n",
       "      <td>11/20/2015</td>\n",
       "      <td>9</td>\n",
       "      <td>6920</td>\n",
       "      <td>1</td>\n",
       "      <td>False</td>\n",
       "      <td>HGST HUH728080ALE600</td>\n",
       "    </tr>\n",
       "    <tr>\n",
       "      <th>140</th>\n",
       "      <td>45C8K0QIFMYB</td>\n",
       "      <td>36</td>\n",
       "      <td>5/21/2015</td>\n",
       "      <td>6/14/2015</td>\n",
       "      <td>58</td>\n",
       "      <td>634</td>\n",
       "      <td>1</td>\n",
       "      <td>False</td>\n",
       "      <td>TOSHIBA MD04ABA400V</td>\n",
       "    </tr>\n",
       "    <tr>\n",
       "      <th>144</th>\n",
       "      <td>45C9K0XLFMYB</td>\n",
       "      <td>36</td>\n",
       "      <td>5/21/2015</td>\n",
       "      <td>8/5/2015</td>\n",
       "      <td>127</td>\n",
       "      <td>1951</td>\n",
       "      <td>1</td>\n",
       "      <td>False</td>\n",
       "      <td>TOSHIBA MD04ABA400V</td>\n",
       "    </tr>\n",
       "    <tr>\n",
       "      <th>163</th>\n",
       "      <td>45CHK11QFMYB</td>\n",
       "      <td>36</td>\n",
       "      <td>5/21/2015</td>\n",
       "      <td>7/12/2015</td>\n",
       "      <td>128</td>\n",
       "      <td>1376</td>\n",
       "      <td>1</td>\n",
       "      <td>False</td>\n",
       "      <td>TOSHIBA MD04ABA400V</td>\n",
       "    </tr>\n",
       "    <tr>\n",
       "      <th>...</th>\n",
       "      <td>...</td>\n",
       "      <td>...</td>\n",
       "      <td>...</td>\n",
       "      <td>...</td>\n",
       "      <td>...</td>\n",
       "      <td>...</td>\n",
       "      <td>...</td>\n",
       "      <td>...</td>\n",
       "      <td>...</td>\n",
       "    </tr>\n",
       "    <tr>\n",
       "      <th>75151</th>\n",
       "      <td>Z4D0C8EM</td>\n",
       "      <td>32</td>\n",
       "      <td>4/3/2015</td>\n",
       "      <td>8/25/2015</td>\n",
       "      <td>72</td>\n",
       "      <td>3535</td>\n",
       "      <td>1</td>\n",
       "      <td>False</td>\n",
       "      <td>ST6000DX000</td>\n",
       "    </tr>\n",
       "    <tr>\n",
       "      <th>75211</th>\n",
       "      <td>Z4D0DBP9</td>\n",
       "      <td>32</td>\n",
       "      <td>4/10/2015</td>\n",
       "      <td>9/8/2015</td>\n",
       "      <td>29</td>\n",
       "      <td>3653</td>\n",
       "      <td>1</td>\n",
       "      <td>False</td>\n",
       "      <td>ST6000DX000</td>\n",
       "    </tr>\n",
       "    <tr>\n",
       "      <th>75225</th>\n",
       "      <td>Z4D0DGBW</td>\n",
       "      <td>32</td>\n",
       "      <td>4/10/2015</td>\n",
       "      <td>4/13/2015</td>\n",
       "      <td>30</td>\n",
       "      <td>102</td>\n",
       "      <td>1</td>\n",
       "      <td>False</td>\n",
       "      <td>ST6000DX000</td>\n",
       "    </tr>\n",
       "    <tr>\n",
       "      <th>75230</th>\n",
       "      <td>Z4D0DKTA</td>\n",
       "      <td>32</td>\n",
       "      <td>4/16/2015</td>\n",
       "      <td>6/21/2015</td>\n",
       "      <td>53</td>\n",
       "      <td>1636</td>\n",
       "      <td>1</td>\n",
       "      <td>False</td>\n",
       "      <td>ST6000DX000</td>\n",
       "    </tr>\n",
       "    <tr>\n",
       "      <th>75261</th>\n",
       "      <td>Z4D0DZZ2</td>\n",
       "      <td>32</td>\n",
       "      <td>4/16/2015</td>\n",
       "      <td>5/14/2015</td>\n",
       "      <td>27</td>\n",
       "      <td>699</td>\n",
       "      <td>1</td>\n",
       "      <td>False</td>\n",
       "      <td>ST6000DX000</td>\n",
       "    </tr>\n",
       "  </tbody>\n",
       "</table>\n",
       "<p>4662 rows × 9 columns</p>\n",
       "</div>"
      ],
      "text/plain": [
       "      Serial Number  Model Start Date   End  Date  Hours Lower  Hours Upper  \\\n",
       "57         2EG33YWJ      5   2/5/2015   3/17/2015            9          968   \n",
       "70         2EG3P7PP      5   2/5/2015  11/20/2015            9         6920   \n",
       "140    45C8K0QIFMYB     36  5/21/2015   6/14/2015           58          634   \n",
       "144    45C9K0XLFMYB     36  5/21/2015    8/5/2015          127         1951   \n",
       "163    45CHK11QFMYB     36  5/21/2015   7/12/2015          128         1376   \n",
       "...             ...    ...        ...         ...          ...          ...   \n",
       "75151      Z4D0C8EM     32   4/3/2015   8/25/2015           72         3535   \n",
       "75211      Z4D0DBP9     32  4/10/2015    9/8/2015           29         3653   \n",
       "75225      Z4D0DGBW     32  4/10/2015   4/13/2015           30          102   \n",
       "75230      Z4D0DKTA     32  4/16/2015   6/21/2015           53         1636   \n",
       "75261      Z4D0DZZ2     32  4/16/2015   5/14/2015           27          699   \n",
       "\n",
       "       Failed  Censored      Drive Model Name  \n",
       "57          1     False  HGST HUH728080ALE600  \n",
       "70          1     False  HGST HUH728080ALE600  \n",
       "140         1     False   TOSHIBA MD04ABA400V  \n",
       "144         1     False   TOSHIBA MD04ABA400V  \n",
       "163         1     False   TOSHIBA MD04ABA400V  \n",
       "...       ...       ...                   ...  \n",
       "75151       1     False           ST6000DX000  \n",
       "75211       1     False           ST6000DX000  \n",
       "75225       1     False           ST6000DX000  \n",
       "75230       1     False           ST6000DX000  \n",
       "75261       1     False           ST6000DX000  \n",
       "\n",
       "[4662 rows x 9 columns]"
      ]
     },
     "execution_count": 107,
     "metadata": {},
     "output_type": "execute_result"
    }
   ],
   "source": [
    "bblaze_data_1_failed"
   ]
  },
  {
   "cell_type": "markdown",
   "metadata": {},
   "source": [
    "Would like to add manufacturer column to the above data frame, need to add column and column value based on drive model name, ie toshiba model name = Toshiba manufacturer."
   ]
  }
 ],
 "metadata": {
  "kernelspec": {
   "display_name": "Python 3.10.4 64-bit",
   "language": "python",
   "name": "python3"
  },
  "language_info": {
   "codemirror_mode": {
    "name": "ipython",
    "version": 3
   },
   "file_extension": ".py",
   "mimetype": "text/x-python",
   "name": "python",
   "nbconvert_exporter": "python",
   "pygments_lexer": "ipython3",
   "version": "3.10.4"
  },
  "orig_nbformat": 4,
  "vscode": {
   "interpreter": {
    "hash": "244cc08184ff83a1bfec9943f57012f94d5ed29366879e4aec37609543d08a33"
   }
  }
 },
 "nbformat": 4,
 "nbformat_minor": 2
}
